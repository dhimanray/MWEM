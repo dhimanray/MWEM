{
 "cells": [
  {
   "cell_type": "code",
   "execution_count": null,
   "metadata": {},
   "outputs": [],
   "source": [
    "import numpy as np\n",
    "import pickle\n",
    "import matplotlib.pyplot as plt\n",
    "import scipy.interpolate"
   ]
  },
  {
   "cell_type": "code",
   "execution_count": null,
   "metadata": {},
   "outputs": [],
   "source": [
    "#define function to convert long list to array\n",
    "from itertools import chain\n",
    "def longlist2array(longlist):\n",
    "    flat = np.fromiter(chain.from_iterable(longlist), np.array(longlist[0][0]).dtype, -1) # Without intermediate list:)\n",
    "    return flat.reshape((len(longlist), -1))"
   ]
  },
  {
   "cell_type": "code",
   "execution_count": null,
   "metadata": {},
   "outputs": [],
   "source": [
    "p = np.loadtxt('cell_prob_40.dat')\n",
    "p"
   ]
  },
  {
   "cell_type": "code",
   "execution_count": null,
   "metadata": {},
   "outputs": [],
   "source": [
    "#trajs = []\n",
    "#weights = []\n",
    "cost = 0.0\n",
    "probabilities = []\n",
    "xedges = np.linspace(-175.0, 175.0, num=140)\n",
    "for i in range(len(p)):\n",
    "    a = pickle.load(open('cell_%d/trajectories_40.pkl'%i,'rb'))\n",
    "\n",
    "    w = np.loadtxt('cell_%d/weights_40.txt'%i)\n",
    "\n",
    "    N_traj = len(w)\n",
    "    len_traj = len(a[0])\n",
    "\n",
    "\n",
    "    weights_array = np.repeat(w,len_traj)\n",
    "    #print(weights_array.shape)\n",
    "\n",
    "    #patch all trajectories one after another\n",
    "    trajs_stacked = [j for k in a for j in k]\n",
    "    #trajs.append(trajs_stacked)\n",
    "    trajs_stacked = longlist2array(trajs_stacked)\n",
    "    #print(trajs_stacked.shape)\n",
    "    cost += len(trajs_stacked)*10*1E-6\n",
    "    \n",
    "    histogm = plt.hist2d(trajs_stacked[:,0],trajs_stacked[:,1],bins=xedges,density=True,weights=weights_array)\n",
    "    probabilities.append(histogm[0].transpose())\n",
    "\n",
    "print(\"computational cost = \",cost,\"ns\")"
   ]
  },
  {
   "cell_type": "code",
   "execution_count": null,
   "metadata": {},
   "outputs": [],
   "source": [
    "x = xedges\n",
    "x = np.delete(x,-1)\n",
    "y = xedges\n",
    "y = np.delete(y,-1)\n",
    "\n",
    "probs = np.zeros((len(x),len(y)))\n",
    "for i in range(len(probabilities)):\n",
    "    probs += probabilities[i]\n",
    "fig = plt.figure()\n",
    "cp = plt.contourf(x,y,probs, 40, cmap='nipy_spectral')\n",
    "cbar = plt.colorbar(cp)\n",
    "cbar.set_label('Probability density',fontsize=16)\n",
    "plt.xlim(-100,100)\n",
    "plt.ylabel(\"$\\Psi (\\circ)$\",fontsize=16)\n",
    "plt.xlabel(\"$\\Phi (\\circ)$\",fontsize=16)\n",
    "#plt.savefig('prob_no_rescale.png',dpi=200,bbox_inches = 'tight')"
   ]
  },
  {
   "cell_type": "code",
   "execution_count": null,
   "metadata": {},
   "outputs": [],
   "source": [
    "x = xedges\n",
    "x = np.delete(x,-1)\n",
    "y = xedges\n",
    "y = np.delete(y,-1)\n",
    "\n",
    "probs = np.zeros((len(x),len(y)))\n",
    "for i in range(len(probabilities)):\n",
    "    probs += p[i,1]*probabilities[i]\n",
    "fig = plt.figure()\n",
    "cp = plt.contourf(x,y,probs, 40, cmap='nipy_spectral')\n",
    "cbar = plt.colorbar(cp)\n",
    "cbar.set_label('Probability density',fontsize=16)\n",
    "plt.xlim(-100,100)\n",
    "#plt.savefig('prob_rescaled.png',dpi=200,bbox_inches = 'tight')"
   ]
  },
  {
   "cell_type": "code",
   "execution_count": null,
   "metadata": {},
   "outputs": [],
   "source": [
    "free_energy = -np.log(probs)\n",
    "free_energy -= np.min(free_energy)\n",
    "\n",
    "for i in range(len(free_energy)):\n",
    "    for j in range(len(free_energy[i])):\n",
    "        if free_energy[i,j] >= 14.0:\n",
    "            free_energy[i,j] = np.inf\n",
    "            \n",
    "fig = plt.figure()\n",
    "cp = plt.contourf(x,y,free_energy, 40, cmap='nipy_spectral')\n",
    "plt.xlim(-100,100)\n",
    "plt.clim(0.0,8)\n",
    "cbar = plt.colorbar(cp)\n",
    "cbar.set_label('Free Energy ($k_BT$)',fontsize=16)\n",
    "#plt.contour(xi, yi, zi, m)\n",
    "plt.ylabel(\"$\\Psi (\\circ)$\",fontsize=16)\n",
    "plt.xlabel(\"$\\Phi (\\circ)$\",fontsize=16)\n",
    "#plt.title(\"A6-DNA: PDB: 5UZF\")\n",
    "plt.savefig('freeE_no_rescale.png',dpi=200,bbox_inches = 'tight')"
   ]
  },
  {
   "cell_type": "code",
   "execution_count": null,
   "metadata": {},
   "outputs": [],
   "source": [
    "free_energy = -np.log(probs)\n",
    "free_energy -= np.min(free_energy)\n",
    "\n",
    "for i in range(len(free_energy)):\n",
    "    for j in range(len(free_energy[i])):\n",
    "        if free_energy[i,j] >= 9.0:\n",
    "            free_energy[i,j] = np.inf\n",
    "\n",
    "fig = plt.figure()\n",
    "cp = plt.contourf(x,y,free_energy, 40, cmap='nipy_spectral')\n",
    "plt.xlim(-100,100)\n",
    "plt.clim(0.0,8.5)\n",
    "cbar = plt.colorbar(cp)\n",
    "cbar.set_label('Free Energy ($k_BT$)',fontsize=16)\n",
    "#plt.contour(xi, yi, zi, m)\n",
    "plt.ylabel(\"$\\Psi (\\circ)$\",fontsize=16)\n",
    "plt.xlabel(\"$\\Phi (\\circ)$\",fontsize=16)\n",
    "#plt.title(\"A6-DNA: PDB: 5UZF\")\n",
    "#plt.savefig('freeE_rescaled.png',dpi=200,bbox_inches = 'tight')"
   ]
  },
  {
   "cell_type": "code",
   "execution_count": null,
   "metadata": {},
   "outputs": [],
   "source": []
  }
 ],
 "metadata": {
  "kernelspec": {
   "display_name": "Python 3",
   "language": "python",
   "name": "python3"
  },
  "language_info": {
   "codemirror_mode": {
    "name": "ipython",
    "version": 3
   },
   "file_extension": ".py",
   "mimetype": "text/x-python",
   "name": "python",
   "nbconvert_exporter": "python",
   "pygments_lexer": "ipython3",
   "version": "3.6.8"
  }
 },
 "nbformat": 4,
 "nbformat_minor": 2
}
